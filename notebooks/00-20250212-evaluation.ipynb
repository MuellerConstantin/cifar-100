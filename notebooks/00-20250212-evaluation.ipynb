{
 "cells": [
  {
   "cell_type": "markdown",
   "metadata": {},
   "source": [
    "# CIFAR-100 Prediction - Evaluation"
   ]
  },
  {
   "cell_type": "markdown",
   "metadata": {},
   "source": [
    "This notebook is used to check the results and trained models and to test their quality."
   ]
  },
  {
   "cell_type": "markdown",
   "metadata": {},
   "source": [
    "## Data Loading"
   ]
  },
  {
   "cell_type": "code",
   "execution_count": null,
   "metadata": {},
   "outputs": [],
   "source": [
    "import numpy as np\n",
    "import tensorflow as tf\n",
    "import matplotlib.pyplot as plt\n",
    "import keras\n",
    "import json"
   ]
  },
  {
   "cell_type": "code",
   "execution_count": null,
   "metadata": {},
   "outputs": [],
   "source": [
    "classes = tf.io.read_file(\"../data/raw/classes.txt\")\n",
    "classes = tf.strings.split(classes, \"\\n\")"
   ]
  },
  {
   "cell_type": "markdown",
   "metadata": {},
   "source": [
    "## Model Evaluation"
   ]
  },
  {
   "cell_type": "markdown",
   "metadata": {},
   "source": [
    "### Convolutional Neural Network"
   ]
  },
  {
   "cell_type": "code",
   "execution_count": null,
   "metadata": {},
   "outputs": [],
   "source": [
    "cnn_model = keras.saving.load_model(\"../models/cnn_model.keras\")\n",
    "cnn_history = np.load(\"../models/cnn_history.npy\", allow_pickle=True).item()"
   ]
  },
  {
   "cell_type": "code",
   "execution_count": null,
   "metadata": {},
   "outputs": [],
   "source": [
    "fig = plt.figure(figsize=(5, 5))\n",
    "ax = plt.subplot(1, 1, 1)\n",
    "\n",
    "num_epochs = len(cnn_history[\"accuracy\"])\n",
    "num_ticks = min(10, num_epochs)\n",
    "x_ticks = np.linspace(1, num_epochs, num_ticks, dtype=int)\n",
    "\n",
    "ax.plot(x_ticks, cnn_history[\"accuracy\"], label=\"accuracy\")\n",
    "ax.plot(x_ticks, cnn_history[\"val_accuracy\"], label=\"val_accuracy\")\n",
    "ax.set_xlabel(\"Epoch\")\n",
    "ax.set_ylabel(\"Accuracy\")\n",
    "ax.set_xticks(x_ticks)\n",
    "ax.legend()\n",
    "\n",
    "plt.show()"
   ]
  },
  {
   "cell_type": "code",
   "execution_count": null,
   "metadata": {},
   "outputs": [],
   "source": [
    "with open(\"../dvclive/cnn/evaluation/metrics.json\", \"r\") as file:\n",
    "    cnn_metrics = json.load(file)\n",
    "\n",
    "print(f\"Train accuracy: {round(cnn_metrics['train']['accuracy'], 4)}\")\n",
    "print(f\"Test accuracy: {round(cnn_metrics['test']['accuracy'], 4)}\")"
   ]
  },
  {
   "cell_type": "markdown",
   "metadata": {},
   "source": [
    "## Model Prediction"
   ]
  },
  {
   "cell_type": "code",
   "execution_count": null,
   "metadata": {},
   "outputs": [],
   "source": [
    "final_model = cnn_model"
   ]
  },
  {
   "cell_type": "code",
   "execution_count": null,
   "metadata": {},
   "outputs": [],
   "source": [
    "test_dataset = (tf.data.Dataset.load(\"../data/preprocessed/test/cnn\")\n",
    "    .batch(32)\n",
    "    .prefetch(tf.data.AUTOTUNE))"
   ]
  },
  {
   "cell_type": "code",
   "execution_count": null,
   "metadata": {},
   "outputs": [],
   "source": [
    "fig = plt.figure(figsize=(10, 10))\n",
    "batch_images, batch_classes = next(iter(test_dataset.take(1)))\n",
    "predictions = final_model.predict(batch_images)\n",
    "\n",
    "for index in range(25):\n",
    "    ax = plt.subplot(5, 5, index + 1)\n",
    "\n",
    "    predicted_class = np.argmax(predictions[index])\n",
    "\n",
    "    ax.set_xticks([])\n",
    "    ax.set_yticks([])\n",
    "    ax.grid(False)\n",
    "    ax.imshow(batch_images[index])\n",
    "    ax.set_xlabel(f\"{classes[predicted_class]} ({round(float(predictions[index][predicted_class]), 3)})\")\n",
    "\n",
    "plt.show()"
   ]
  }
 ],
 "metadata": {
  "kernelspec": {
   "display_name": "cifar-100",
   "language": "python",
   "name": "python3"
  },
  "language_info": {
   "codemirror_mode": {
    "name": "ipython",
    "version": 3
   },
   "file_extension": ".py",
   "mimetype": "text/x-python",
   "name": "python",
   "nbconvert_exporter": "python",
   "pygments_lexer": "ipython3",
   "version": "3.10.16"
  }
 },
 "nbformat": 4,
 "nbformat_minor": 2
}
