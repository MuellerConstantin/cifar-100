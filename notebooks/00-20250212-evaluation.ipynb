{
 "cells": [
  {
   "cell_type": "markdown",
   "metadata": {},
   "source": [
    "# CIFAR-100 Prediction - Evaluation"
   ]
  },
  {
   "cell_type": "markdown",
   "metadata": {},
   "source": [
    "This notebook is used to check the results and trained models and to test their quality."
   ]
  },
  {
   "cell_type": "markdown",
   "metadata": {},
   "source": [
    "## Data Loading"
   ]
  },
  {
   "cell_type": "code",
   "execution_count": null,
   "metadata": {},
   "outputs": [],
   "source": [
    "import numpy as np\n",
    "import tensorflow as tf\n",
    "import matplotlib.pyplot as plt\n",
    "import keras"
   ]
  },
  {
   "cell_type": "code",
   "execution_count": null,
   "metadata": {},
   "outputs": [],
   "source": [
    "classes = tf.io.read_file(\"../data/raw/classes.txt\")\n",
    "classes = tf.strings.split(classes, \"\\n\")"
   ]
  },
  {
   "cell_type": "code",
   "execution_count": null,
   "metadata": {},
   "outputs": [],
   "source": [
    "train_dataset = (tf.data.Dataset.load(\"../data/splitted/train\")\n",
    "    .batch(32)\n",
    "    .prefetch(tf.data.AUTOTUNE))\n",
    "\n",
    "test_dataset = (tf.data.Dataset.load(\"../data/raw/test\")\n",
    "    .batch(32)\n",
    "    .prefetch(tf.data.AUTOTUNE))"
   ]
  },
  {
   "cell_type": "markdown",
   "metadata": {},
   "source": [
    "## Model Evaluation"
   ]
  },
  {
   "cell_type": "markdown",
   "metadata": {},
   "source": [
    "### Convolutional Neural Network"
   ]
  },
  {
   "cell_type": "code",
   "execution_count": null,
   "metadata": {},
   "outputs": [],
   "source": [
    "cnn_model = keras.saving.load_model(\"../models/cnn_model.keras\")\n",
    "cnn_history = np.load(\"../models/cnn_history.npy\", allow_pickle=True).item()"
   ]
  },
  {
   "cell_type": "code",
   "execution_count": null,
   "metadata": {},
   "outputs": [],
   "source": [
    "fig = plt.figure(figsize=(5, 5))\n",
    "ax = plt.subplot(1, 1, 1)\n",
    "\n",
    "epochs = range(1, len(cnn_history[\"accuracy\"]) + 1)\n",
    "\n",
    "ax.plot(epochs, cnn_history[\"accuracy\"], label=\"accuracy\")\n",
    "ax.plot(epochs, cnn_history[\"val_accuracy\"], label=\"val_accuracy\")\n",
    "ax.set_xlabel(\"Epoch\")\n",
    "ax.set_ylabel(\"Accuracy\")\n",
    "ax.set_xticks(epochs)\n",
    "ax.legend()\n",
    "\n",
    "plt.show()"
   ]
  },
  {
   "cell_type": "code",
   "execution_count": null,
   "metadata": {},
   "outputs": [],
   "source": [
    "cnn_train_accuracy = cnn_model.evaluate(train_dataset, verbose=2)\n",
    "cnn_test_accuracy = cnn_model.evaluate(test_dataset, verbose=2)\n",
    "\n",
    "print(f\"Train accuracy: {cnn_train_accuracy[1]}\")\n",
    "print(f\"Test accuracy: {cnn_test_accuracy[1]}\")"
   ]
  },
  {
   "cell_type": "markdown",
   "metadata": {},
   "source": [
    "## Model Prediction"
   ]
  },
  {
   "cell_type": "code",
   "execution_count": null,
   "metadata": {},
   "outputs": [],
   "source": [
    "final_model = cnn_model"
   ]
  },
  {
   "cell_type": "code",
   "execution_count": null,
   "metadata": {},
   "outputs": [],
   "source": [
    "fig = plt.figure(figsize=(10, 10))\n",
    "batch_images, batch_classes = next(iter(test_dataset.take(1)))\n",
    "predictions = final_model.predict(batch_images)\n",
    "\n",
    "for index in range(25):\n",
    "    ax = plt.subplot(5, 5, index + 1)\n",
    "\n",
    "    predicted_class = np.argmax(predictions[index])\n",
    "\n",
    "    ax.set_xticks([])\n",
    "    ax.set_yticks([])\n",
    "    ax.grid(False)\n",
    "    ax.imshow(batch_images[index])\n",
    "    ax.set_xlabel(f\"{classes[predicted_class]} ({round(float(predictions[index][predicted_class]), 3)})\")\n",
    "\n",
    "plt.show()"
   ]
  }
 ],
 "metadata": {
  "kernelspec": {
   "display_name": "cifar-100",
   "language": "python",
   "name": "python3"
  },
  "language_info": {
   "codemirror_mode": {
    "name": "ipython",
    "version": 3
   },
   "file_extension": ".py",
   "mimetype": "text/x-python",
   "name": "python",
   "nbconvert_exporter": "python",
   "pygments_lexer": "ipython3",
   "version": "3.10.16"
  }
 },
 "nbformat": 4,
 "nbformat_minor": 2
}
